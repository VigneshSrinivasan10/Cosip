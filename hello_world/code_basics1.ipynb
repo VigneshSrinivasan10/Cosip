{
 "cells": [
  {
   "cell_type": "code",
   "execution_count": 2,
   "metadata": {},
   "outputs": [],
   "source": [
    "import tensorflow as tf\n",
    "import numpy as np\n",
    "\n",
    "from IPython.display import clear_output, Image, display, HTML\n",
    "from code_utils import strip_consts, show_graph"
   ]
  },
  {
   "cell_type": "code",
   "execution_count": 3,
   "metadata": {},
   "outputs": [
    {
     "name": "stdout",
     "output_type": "stream",
     "text": [
      "10 20 200\n"
     ]
    }
   ],
   "source": [
    "#################################################################################\n",
    "''' Numpy version'''\n",
    "#################################################################################\n",
    "a = 10\n",
    "b = 20\n",
    "c = a*b\n",
    "\n",
    "print(a,b,c)"
   ]
  },
  {
   "cell_type": "code",
   "execution_count": 6,
   "metadata": {},
   "outputs": [
    {
     "name": "stdout",
     "output_type": "stream",
     "text": [
      "Tensor(\"inputs/a:0\", shape=(), dtype=float32)\n",
      "Tensor(\"inputs/b:0\", shape=(), dtype=float32)\n",
      "Tensor(\"output:0\", shape=(), dtype=float32)\n"
     ]
    }
   ],
   "source": [
    "#################################################################################\n",
    "''' Tensorflow version'''\n",
    "#################################################################################\n",
    "tf.reset_default_graph()\n",
    "\n",
    "# Define the placeholders \n",
    "a = tf.placeholder(tf.float32, shape=(), name='inputs/a')\n",
    "b = tf.placeholder(tf.float32, shape=(), name='inputs/b')\n",
    "\n",
    "# Define the operation to be performed\n",
    "c = tf.multiply(a,b,name='output')\n",
    "\n",
    "print(a)\n",
    "print(b)\n",
    "print(c)\n"
   ]
  },
  {
   "cell_type": "code",
   "execution_count": 7,
   "metadata": {},
   "outputs": [
    {
     "data": {
      "text/html": [
       "\n",
       "        <iframe seamless style=\"width:1200px;height:620px;border:0\" srcdoc=\"\n",
       "        <script>\n",
       "          function load() {\n",
       "            document.getElementById(&quot;graph0.21692415594583037&quot;).pbtxt = 'node {\\n  name: &quot;inputs/a&quot;\\n  op: &quot;Placeholder&quot;\\n  attr {\\n    key: &quot;dtype&quot;\\n    value {\\n      type: DT_FLOAT\\n    }\\n  }\\n  attr {\\n    key: &quot;shape&quot;\\n    value {\\n      shape {\\n      }\\n    }\\n  }\\n}\\nnode {\\n  name: &quot;inputs/b&quot;\\n  op: &quot;Placeholder&quot;\\n  attr {\\n    key: &quot;dtype&quot;\\n    value {\\n      type: DT_FLOAT\\n    }\\n  }\\n  attr {\\n    key: &quot;shape&quot;\\n    value {\\n      shape {\\n      }\\n    }\\n  }\\n}\\nnode {\\n  name: &quot;output&quot;\\n  op: &quot;Mul&quot;\\n  input: &quot;inputs/a&quot;\\n  input: &quot;inputs/b&quot;\\n  attr {\\n    key: &quot;T&quot;\\n    value {\\n      type: DT_FLOAT\\n    }\\n  }\\n}\\n';\n",
       "          }\n",
       "        </script>\n",
       "        <link rel=&quot;import&quot; href=&quot;https://tensorboard.appspot.com/tf-graph-basic.build.html&quot; onload=load()>\n",
       "        <div style=&quot;height:600px&quot;>\n",
       "          <tf-graph-basic id=&quot;graph0.21692415594583037&quot;></tf-graph-basic>\n",
       "        </div>\n",
       "    \"></iframe>\n",
       "    "
      ],
      "text/plain": [
       "<IPython.core.display.HTML object>"
      ]
     },
     "metadata": {},
     "output_type": "display_data"
    }
   ],
   "source": [
    "show_graph(tf.get_default_graph().as_graph_def()) # Tensorboard graph display in iPython-notebook\n"
   ]
  },
  {
   "cell_type": "code",
   "execution_count": 8,
   "metadata": {},
   "outputs": [
    {
     "name": "stdout",
     "output_type": "stream",
     "text": [
      "10.0 20.0 200.0\n"
     ]
    }
   ],
   "source": [
    "# Define the session to execute the operations\n",
    "# and get the output\n",
    "with tf.Session() as sess:\n",
    "    # Pass numerical values to the placeholders \n",
    "    # in the form of a dictionary\n",
    "    values_dict = {a:10.0, b:20.0}\n",
    "    input1, input2, output = sess.run([a,b,c], feed_dict=values_dict)\n",
    "    \n",
    "print(input1, input2, output)"
   ]
  },
  {
   "cell_type": "code",
   "execution_count": null,
   "metadata": {
    "collapsed": true
   },
   "outputs": [],
   "source": []
  }
 ],
 "metadata": {
  "anaconda-cloud": {},
  "kernelspec": {
   "display_name": "Python 3",
   "language": "python",
   "name": "python3"
  },
  "language_info": {
   "codemirror_mode": {
    "name": "ipython",
    "version": 3
   },
   "file_extension": ".py",
   "mimetype": "text/x-python",
   "name": "python",
   "nbconvert_exporter": "python",
   "pygments_lexer": "ipython3",
   "version": "3.4.3"
  }
 },
 "nbformat": 4,
 "nbformat_minor": 1
}
